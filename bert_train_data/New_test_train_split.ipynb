{
 "cells": [
  {
   "cell_type": "code",
   "execution_count": 1,
   "metadata": {},
   "outputs": [],
   "source": [
    "import csv\n",
    "from sklearn.model_selection import train_test_split\n",
    "import pandas as pd\n",
    "import numpy as np\n",
    "import pickle"
   ]
  },
  {
   "cell_type": "code",
   "execution_count": 2,
   "metadata": {},
   "outputs": [],
   "source": [
    "badwords = ['nigger', 'fuck', 'sex', 'negro', 'cunt', 'bitch', 'cum', 'gay', 'dyke', 'fag', 'faggot']\n",
    "redditwords = ['Edit:', 'edit:']\n",
    "\n",
    "\n",
    "def check_bad_word(badwordlist, sentence):\n",
    "    sentencecopy = sentence.split(' ')\n",
    "    for word in badwords:\n",
    "        if word in sentencecopy:\n",
    "            return False\n",
    "    return True"
   ]
  },
  {
   "cell_type": "markdown",
   "metadata": {},
   "source": [
    "Read in files"
   ]
  },
  {
   "cell_type": "code",
   "execution_count": 3,
   "metadata": {},
   "outputs": [],
   "source": [
    "kaggle_train = pd.read_csv(\"kaggle_train.csv\")\n",
    "kaggle_dev = pd.read_csv(\"kaggle_dev.csv\")\n",
    "kaggle_test = pd.read_csv(\"kaggle_test.csv\")\n",
    "prev_test = pd.read_csv(\"test_data.csv\")\n",
    "prev_train = pd.read_csv(\"train_data.csv\")"
   ]
  },
  {
   "cell_type": "code",
   "execution_count": 29,
   "metadata": {},
   "outputs": [],
   "source": [
    "pos = pd.read_csv(\"all_jokes.csv\")\n",
    "neg = pd.read_csv(\"all_negatives.csv\")"
   ]
  },
  {
   "cell_type": "markdown",
   "metadata": {},
   "source": [
    "Save function (into tsv)"
   ]
  },
  {
   "cell_type": "code",
   "execution_count": 11,
   "metadata": {},
   "outputs": [],
   "source": [
    "def write_csv(posts, name):\n",
    "    name = name + \".tsv\"\n",
    "    posts.to_csv(name, index=False, sep='\\t')"
   ]
  },
  {
   "cell_type": "markdown",
   "metadata": {},
   "source": [
    "put together true kaggle examples and previous examples"
   ]
  },
  {
   "cell_type": "code",
   "execution_count": 27,
   "metadata": {},
   "outputs": [],
   "source": [
    "kaggle_trues = (kaggle_train[kaggle_train['humor'] == True]).append((kaggle_dev[kaggle_dev['humor'] == True]),ignore_index=True)\n",
    "kaggle_trues= kaggle_trues.rename(columns={\"humor\":\"label\"})\n",
    "kaggle_trues['label'] = kaggle_trues['label'].astype(int)\n",
    "\n",
    "pos = pos.append(kaggle_trues,ignore_index=True)\n"
   ]
  },
  {
   "cell_type": "markdown",
   "metadata": {},
   "source": [
    "put together negative kaggle examples and previous examples"
   ]
  },
  {
   "cell_type": "code",
   "execution_count": 40,
   "metadata": {},
   "outputs": [],
   "source": [
    "kaggle_negs = (kaggle_train[kaggle_train['humor'] == False]).append((kaggle_dev[kaggle_dev['humor'] == False]),ignore_index=True)\n",
    "kaggle_negs= kaggle_negs.rename(columns={\"humor\":\"label\"})\n",
    "kaggle_negs['label'] = kaggle_negs['label'].astype(int)\n",
    "\n",
    "neg = neg.append(kaggle_trues,ignore_index=True)"
   ]
  },
  {
   "cell_type": "markdown",
   "metadata": {},
   "source": [
    "The total number of examples:"
   ]
  },
  {
   "cell_type": "code",
   "execution_count": 44,
   "metadata": {},
   "outputs": [
    {
     "name": "stdout",
     "output_type": "stream",
     "text": [
      "177880 149515\n"
     ]
    }
   ],
   "source": [
    "print(len(pos),len(neg))"
   ]
  },
  {
   "cell_type": "markdown",
   "metadata": {},
   "source": [
    "pull out the same number of pos/neg examples from the entire dataset to create test dataset"
   ]
  },
  {
   "cell_type": "code",
   "execution_count": 47,
   "metadata": {},
   "outputs": [],
   "source": [
    "include_idx = np.random.choice(np.arange(len(pos)), size=1000)\n",
    "mask = np.zeros(pos.shape,dtype=bool)\n",
    "mask[include_idx] = True\n",
    "p_test = pos[mask]  # array([0, 1, 2, 3])\n",
    "p_train = pos[~mask]"
   ]
  },
  {
   "cell_type": "code",
   "execution_count": 78,
   "metadata": {},
   "outputs": [],
   "source": [
    "include_idx = np.random.choice(np.arange(len(neg)), size=(len(pos)+len(neg))//10)\n",
    "mask = np.zeros(neg.shape,dtype=bool)\n",
    "mask[include_idx] = True\n",
    "n_test = neg[mask]  # array([0, 1, 2, 3])\n",
    "n_train = neg[~mask]"
   ]
  },
  {
   "cell_type": "code",
   "execution_count": 79,
   "metadata": {},
   "outputs": [],
   "source": [
    "test = p_test.append(n_test)\n",
    "total_train = p_train.append(n_train)"
   ]
  },
  {
   "cell_type": "code",
   "execution_count": 90,
   "metadata": {},
   "outputs": [],
   "source": [
    "msk = np.random.rand(len(total_train)) < (1/9)\n",
    "dev = total_train[msk]\n",
    "train = total_train[~msk]"
   ]
  },
  {
   "cell_type": "code",
   "execution_count": 95,
   "metadata": {},
   "outputs": [],
   "source": [
    "write_csv(test, \"total_test\")\n",
    "write_csv(train,\"total_train\")\n",
    "write_csv(dev,\"total_dev\")"
   ]
  },
  {
   "cell_type": "markdown",
   "metadata": {},
   "source": [
    "Create stats for the test train dev:"
   ]
  },
  {
   "cell_type": "code",
   "execution_count": 91,
   "metadata": {},
   "outputs": [
    {
     "name": "stdout",
     "output_type": "stream",
     "text": [
      "60804 528047 65939\n"
     ]
    }
   ],
   "source": [
    "print(len(test), len(train),len(dev))"
   ]
  },
  {
   "cell_type": "code",
   "execution_count": 100,
   "metadata": {},
   "outputs": [],
   "source": [
    "a,b,c=(len(test), len(train),len(dev))"
   ]
  },
  {
   "cell_type": "code",
   "execution_count": 101,
   "metadata": {},
   "outputs": [],
   "source": [
    "tot = a+b+c\n",
    "a = a/tot * 100\n",
    "b = b/tot * 100\n",
    "c = c/tot * 100"
   ]
  },
  {
   "cell_type": "code",
   "execution_count": 102,
   "metadata": {},
   "outputs": [
    {
     "name": "stdout",
     "output_type": "stream",
     "text": [
      "9.286030635776356 80.64371783319842 10.070251531025214\n"
     ]
    }
   ],
   "source": [
    "print(a,b,c)"
   ]
  },
  {
   "cell_type": "code",
   "execution_count": null,
   "metadata": {},
   "outputs": [],
   "source": []
  }
 ],
 "metadata": {
  "kernelspec": {
   "display_name": "Python 3",
   "language": "python",
   "name": "python3"
  },
  "language_info": {
   "codemirror_mode": {
    "name": "ipython",
    "version": 3
   },
   "file_extension": ".py",
   "mimetype": "text/x-python",
   "name": "python",
   "nbconvert_exporter": "python",
   "pygments_lexer": "ipython3",
   "version": "3.8.5"
  }
 },
 "nbformat": 4,
 "nbformat_minor": 4
}
