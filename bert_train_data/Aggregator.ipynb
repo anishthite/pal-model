{
 "cells": [
  {
   "cell_type": "markdown",
   "metadata": {},
   "source": [
    "This file is to put together all the data and create a test set. (and maybe evaluation set as well)"
   ]
  },
  {
   "cell_type": "code",
   "execution_count": 2,
   "metadata": {},
   "outputs": [],
   "source": [
    "import csv\n",
    "from sklearn.model_selection import train_test_split\n",
    "import pandas as pd\n",
    "import numpy as np\n",
    "import pickle"
   ]
  },
  {
   "cell_type": "code",
   "execution_count": 13,
   "metadata": {},
   "outputs": [],
   "source": [
    "badwords = ['nigger', 'fuck', 'sex', 'negro', 'cunt', 'bitch', 'cum', 'gay', 'dyke', 'fag', 'faggot']\n",
    "redditwords = ['Edit:', 'edit:']\n",
    "\n",
    "\n",
    "def check_bad_word(badwordlist, sentence):\n",
    "    sentencecopy = sentence.split(' ')\n",
    "    for word in badwords:\n",
    "        if word in sentencecopy:\n",
    "            return False\n",
    "    return True"
   ]
  },
  {
   "cell_type": "markdown",
   "metadata": {},
   "source": [
    "Read pickle files and label (preparing the new dataset)"
   ]
  },
  {
   "cell_type": "code",
   "execution_count": 4,
   "metadata": {},
   "outputs": [],
   "source": [
    "filename = \"humorous_jokes_new_raw.pickle\"\n",
    "new_pos_data = pickle.load(open(filename,'rb'))\n",
    "new_neg_data = pickle.load(open(\"negatives_new_raw.pickle\",'rb'))"
   ]
  },
  {
   "cell_type": "code",
   "execution_count": 7,
   "metadata": {},
   "outputs": [],
   "source": [
    "pos_df = pd.DataFrame(new_pos_data,columns=[\"text\"])\n",
    "neg_df = pd.DataFrame(new_neg_data,columns=[\"text\"])"
   ]
  },
  {
   "cell_type": "code",
   "execution_count": 11,
   "metadata": {},
   "outputs": [],
   "source": [
    "pos_df['label'] = 1\n",
    "neg_df['label'] = 0"
   ]
  },
  {
   "cell_type": "code",
   "execution_count": 12,
   "metadata": {},
   "outputs": [
    {
     "data": {
      "text/html": [
       "<div>\n",
       "<style scoped>\n",
       "    .dataframe tbody tr th:only-of-type {\n",
       "        vertical-align: middle;\n",
       "    }\n",
       "\n",
       "    .dataframe tbody tr th {\n",
       "        vertical-align: top;\n",
       "    }\n",
       "\n",
       "    .dataframe thead th {\n",
       "        text-align: right;\n",
       "    }\n",
       "</style>\n",
       "<table border=\"1\" class=\"dataframe\">\n",
       "  <thead>\n",
       "    <tr style=\"text-align: right;\">\n",
       "      <th></th>\n",
       "      <th>text</th>\n",
       "      <th>label</th>\n",
       "    </tr>\n",
       "  </thead>\n",
       "  <tbody>\n",
       "    <tr>\n",
       "      <th>0</th>\n",
       "      <td>A Bad Beginning Makes A Bad Ending</td>\n",
       "      <td>0</td>\n",
       "    </tr>\n",
       "    <tr>\n",
       "      <th>1</th>\n",
       "      <td>A Bad Corn Promise Is Better Than A Good Lawsuit</td>\n",
       "      <td>0</td>\n",
       "    </tr>\n",
       "    <tr>\n",
       "      <th>2</th>\n",
       "      <td>A Bad Workman Quarrels With His Tools</td>\n",
       "      <td>0</td>\n",
       "    </tr>\n",
       "    <tr>\n",
       "      <th>3</th>\n",
       "      <td>A Bargain Is A Bargain</td>\n",
       "      <td>0</td>\n",
       "    </tr>\n",
       "    <tr>\n",
       "      <th>4</th>\n",
       "      <td>A Beggar Can Never Be Bankrupt</td>\n",
       "      <td>0</td>\n",
       "    </tr>\n",
       "  </tbody>\n",
       "</table>\n",
       "</div>"
      ],
      "text/plain": [
       "                                               text  label\n",
       "0                A Bad Beginning Makes A Bad Ending      0\n",
       "1  A Bad Corn Promise Is Better Than A Good Lawsuit      0\n",
       "2             A Bad Workman Quarrels With His Tools      0\n",
       "3                            A Bargain Is A Bargain      0\n",
       "4                    A Beggar Can Never Be Bankrupt      0"
      ]
     },
     "execution_count": 12,
     "metadata": {},
     "output_type": "execute_result"
    }
   ],
   "source": [
    "neg_df.head()"
   ]
  },
  {
   "cell_type": "code",
   "execution_count": 17,
   "metadata": {},
   "outputs": [],
   "source": [
    "passed_indeces = [check_bad_word(badwords, sent) for sent in pos_df['text']]\n",
    "pos_filt = pos_df[passed_indeces]"
   ]
  },
  {
   "cell_type": "code",
   "execution_count": 21,
   "metadata": {},
   "outputs": [],
   "source": [
    "passed_indeces = [check_bad_word(badwords, sent) for sent in neg_df['text']]\n",
    "neg_filt = neg_df[passed_indeces]"
   ]
  },
  {
   "cell_type": "markdown",
   "metadata": {},
   "source": [
    "read in previous dataset and label them"
   ]
  },
  {
   "cell_type": "code",
   "execution_count": 24,
   "metadata": {},
   "outputs": [],
   "source": [
    "qa_jokes = pd.read_csv(\"qa_total.csv\")\n",
    "non_qa_jokes = pd.read_csv(\"non_qa_total.csv\")"
   ]
  },
  {
   "cell_type": "code",
   "execution_count": 28,
   "metadata": {},
   "outputs": [],
   "source": [
    "qa_jokes['text'] = qa_jokes['title'] +\" \"+ qa_jokes['selftext']\n",
    "qa_jokes=qa_jokes.drop(['title','selftext','score','source'],axis=1)"
   ]
  },
  {
   "cell_type": "code",
   "execution_count": 32,
   "metadata": {},
   "outputs": [],
   "source": [
    "non_qa_jokes['text'] = non_qa_jokes['title'] +\" \"+ non_qa_jokes['selftext']\n",
    "non_qa_jokes=non_qa_jokes.drop(['title','selftext','score','source'],axis=1)"
   ]
  },
  {
   "cell_type": "code",
   "execution_count": 34,
   "metadata": {},
   "outputs": [],
   "source": [
    "all_jokes = qa_jokes.append(non_qa_jokes, ignore_index=True)\n",
    "all_jokes['label'] = 1"
   ]
  },
  {
   "cell_type": "markdown",
   "metadata": {},
   "source": [
    "put together all the positive data"
   ]
  },
  {
   "cell_type": "code",
   "execution_count": 38,
   "metadata": {},
   "outputs": [],
   "source": [
    "all_jokes = all_jokes.append(pos_df,ignore_index=True)"
   ]
  },
  {
   "cell_type": "markdown",
   "metadata": {},
   "source": [
    "Load more negative examples"
   ]
  },
  {
   "cell_type": "code",
   "execution_count": 88,
   "metadata": {},
   "outputs": [],
   "source": [
    "neg_ex = pd.read_csv(\"~/Workspace/pal-model/humor_challenge_data/raw/results-20200305-223056.csv\")"
   ]
  },
  {
   "cell_type": "code",
   "execution_count": 90,
   "metadata": {},
   "outputs": [],
   "source": [
    "temp_Df = neg_ex.copy()\n",
    "temp_Df = temp_Df.drop(['selftext'],axis=1)\n",
    "temp_Df = temp_Df.rename(columns={\"body\":\"text\"})\n",
    "temp_Df = temp_Df[temp_Df['text'] != \"[removed]\"  ]\n",
    "temp_Df = temp_Df[temp_Df['text'] != \"[deleted]\"  ]"
   ]
  },
  {
   "cell_type": "code",
   "execution_count": 91,
   "metadata": {},
   "outputs": [],
   "source": [
    "neg_ex=neg_ex.drop(['body'],axis=1)\n",
    "neg_ex = neg_ex.rename(columns={\"selftext\" : \"text\"}).append(temp_Df,ignore_index=True)"
   ]
  },
  {
   "cell_type": "code",
   "execution_count": 92,
   "metadata": {},
   "outputs": [],
   "source": [
    "neg_ex = neg_ex.append(temp_Df,ignore_index=True)"
   ]
  },
  {
   "cell_type": "code",
   "execution_count": 94,
   "metadata": {},
   "outputs": [],
   "source": [
    "neg_ex['label']=0"
   ]
  },
  {
   "cell_type": "code",
   "execution_count": 95,
   "metadata": {},
   "outputs": [],
   "source": [
    "all_negatives = neg_ex.append(neg_df,ignore_index=True)"
   ]
  },
  {
   "cell_type": "markdown",
   "metadata": {},
   "source": [
    "combine all the data and divide into test and train dataset"
   ]
  },
  {
   "cell_type": "code",
   "execution_count": 97,
   "metadata": {},
   "outputs": [],
   "source": [
    "all_examples = all_jokes.append(all_negatives,ignore_index=True)"
   ]
  },
  {
   "cell_type": "code",
   "execution_count": 100,
   "metadata": {},
   "outputs": [],
   "source": [
    "msk = np.random.rand(len(all_examples)) < 0.8\n",
    "train = all_examples[msk]\n",
    "test = all_examples[~msk]\n"
   ]
  },
  {
   "cell_type": "code",
   "execution_count": 103,
   "metadata": {},
   "outputs": [],
   "source": []
  },
  {
   "cell_type": "code",
   "execution_count": 106,
   "metadata": {},
   "outputs": [],
   "source": [
    "def write_csv(posts, name):\n",
    "    name = name + \".csv\"\n",
    "    posts.to_csv(name, index=False)"
   ]
  },
  {
   "cell_type": "code",
   "execution_count": 107,
   "metadata": {},
   "outputs": [],
   "source": [
    "write_csv(all_negatives,\"all_negatives\")\n",
    "write_csv(all_jokes,\"all_jokes\")\n",
    "write_csv(train,\"train_data\")\n",
    "write_csv(test,\"test_data\")\n",
    "write_csv(all_examples,\"all_examples\")"
   ]
  },
  {
   "cell_type": "markdown",
   "metadata": {},
   "source": [
    "Randomly shuffle train and test data"
   ]
  }
 ],
 "metadata": {
  "kernelspec": {
   "display_name": "Python 3",
   "language": "python",
   "name": "python3"
  },
  "language_info": {
   "codemirror_mode": {
    "name": "ipython",
    "version": 3
   },
   "file_extension": ".py",
   "mimetype": "text/x-python",
   "name": "python",
   "nbconvert_exporter": "python",
   "pygments_lexer": "ipython3",
   "version": "3.8.3"
  }
 },
 "nbformat": 4,
 "nbformat_minor": 4
}
