{
 "cells": [
  {
   "cell_type": "code",
   "execution_count": 11,
   "metadata": {},
   "outputs": [],
   "source": [
    "import csv\n",
    "from sklearn.model_selection import train_test_split\n",
    "import pandas as pd"
   ]
  },
  {
   "cell_type": "code",
   "execution_count": 4,
   "metadata": {},
   "outputs": [],
   "source": [
    "badwords = ['nigger', 'fuck', 'sex', 'negro', 'cunt', 'bitch', 'cum', 'gay', 'dyke', 'fag', 'faggot']\n",
    "redditwords = ['Edit:', 'edit:']\n",
    "\n",
    "\n",
    "def check_bad_word(badwordlist, sentence):\n",
    "    sentencecopy = sentence.split(' ')\n",
    "    for word in badwords:\n",
    "        if word in sentencecopy:\n",
    "            return False\n",
    "    return True\n"
   ]
  },
  {
   "cell_type": "code",
   "execution_count": 77,
   "metadata": {},
   "outputs": [],
   "source": [
    "def filter_csv(csv_file, length_limit=250, is_qa = False):\n",
    "    if '.csv' in csv_file:\n",
    "        data = pd.read_csv(csv_file)\n",
    "    elif '.tsv' in csv_file:\n",
    "        df = pd.read_csv(csv_file,sep=\"\\t\")\n",
    "\n",
    "    data = data.drop([\"Unnamed: 0\"], axis=1)\n",
    "    is_good_list = []\n",
    "    for i in range(len(data)):\n",
    "        title = data.iloc[i]['title']\n",
    "        body = data.iloc[i]['body']\n",
    "        sentence = title + body\n",
    "        data.at[i,'title'] = title.replace('\\n','')\n",
    "        data.at[i,'body'] = body.replace('\\n','')\n",
    "        for word in redditwords:\n",
    "            if word in body:\n",
    "                data.at[i,'body'] = body[:body.index(word)]\n",
    "        is_good = check_bad_word(badwords, sentence) and (len(sentence) < length_limit) and (title not in data['title'])\n",
    "        if is_qa:\n",
    "            is_good = is_good and sentence.count('?') == 1\n",
    "\n",
    "        is_good_list.append(is_good)\n",
    "    data['good'] = is_good_list\n",
    "    data = data[data['good']]\n",
    "    data = data.drop(['good'], axis=1)\n",
    "    return data"
   ]
  },
  {
   "cell_type": "code",
   "execution_count": 78,
   "metadata": {},
   "outputs": [],
   "source": [
    "filtered = filter_csv(\"jokes_subreddit.csv\")"
   ]
  }
 ],
 "metadata": {
  "kernelspec": {
   "display_name": "Python 3",
   "language": "python",
   "name": "python3"
  },
  "language_info": {
   "codemirror_mode": {
    "name": "ipython",
    "version": 3
   },
   "file_extension": ".py",
   "mimetype": "text/x-python",
   "name": "python",
   "nbconvert_exporter": "python",
   "pygments_lexer": "ipython3",
   "version": "3.8.5"
  }
 },
 "nbformat": 4,
 "nbformat_minor": 4
}
