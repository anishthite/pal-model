{
 "cells": [
  {
   "cell_type": "code",
   "execution_count": 32,
   "metadata": {},
   "outputs": [],
   "source": [
    "import csv\n",
    "from sklearn.model_selection import train_test_split\n",
    "import pandas as pd\n",
    "import numpy as np\n",
    "import os"
   ]
  },
  {
   "cell_type": "code",
   "execution_count": 6,
   "metadata": {},
   "outputs": [],
   "source": [
    "badwords = ['nigger', 'fuck', 'sex', 'negro', 'cunt', 'bitch', 'cum', 'gay', 'dyke', 'fag', 'faggot']\n",
    "redditwords = ['Edit:', 'edit:']\n",
    "\n",
    "\n",
    "def check_bad_word(badwordlist, sentence):\n",
    "    sentencecopy = sentence.split(' ')\n",
    "    for word in badwords:\n",
    "        if word in sentencecopy:\n",
    "            return False\n",
    "    return True\n"
   ]
  },
  {
   "cell_type": "code",
   "execution_count": 79,
   "metadata": {},
   "outputs": [],
   "source": [
    "def filter_csv_indiv(data, length_limit=250, is_qa = False):\n",
    "    data = data.drop([\"Unnamed: 0\"], axis=1)\n",
    "    is_good_list = []\n",
    "    for i in range(len(data)):\n",
    "        title = data.iloc[i]['title']\n",
    "        body = data.iloc[i]['selftext']\n",
    "        sentence = title + body\n",
    "        data.at[i,'title'] = title.replace('\\n','')\n",
    "        data.at[i,'body'] = body.replace('\\n','')\n",
    "        for word in redditwords:\n",
    "            if word in body:\n",
    "                data.at[i,'body'] = body[:body.index(word)]\n",
    "        is_good = check_bad_word(badwords, sentence) and (len(body) > 2) and (len(sentence) < length_limit) and not body.eq(\"[deleted]\") \n",
    "        if is_qa:\n",
    "            is_good = is_good and sentence.count('?') == 1\n",
    "\n",
    "        is_good_list.append(is_good)\n",
    "    data['good'] = is_good_list\n",
    "    data = data[data['good']]\n",
    "    data = data.drop(['good'], axis=1)\n",
    "    return data"
   ]
  },
  {
   "cell_type": "code",
   "execution_count": 128,
   "metadata": {},
   "outputs": [],
   "source": [
    "def filter_csv2(data,prev, length_limit=250, is_qa = False):\n",
    "    is_good_list = []\n",
    "    for i in range(len(data)):\n",
    "        title = data.iloc[i]['title']\n",
    "        body = data.iloc[i]['selftext']\n",
    "        if type(body) is not str or  type(title) is not str:\n",
    "            continue\n",
    "        sentence = title + body\n",
    "        data.at[i,'title'] = title.replace('\\n','')\n",
    "        data.at[i,'selftext'] = body.replace('\\n','')\n",
    "        for word in redditwords:\n",
    "            if word in body:\n",
    "                data.at[i,'selftext'] = body[:body.index(word)]\n",
    "        is_good = check_bad_word(badwords, sentence) and (len(sentence) > 2) and (len(sentence) < length_limit) and (title not in prev['title']) and  not body == \"[deleted]\" and not body ==\"[removed]\" \n",
    "        if is_qa:\n",
    "            is_good = is_good and sentence.count('?') == 1\n",
    "\n",
    "        if is_good:\n",
    "            prev=prev.append(data.loc[i,:])\n",
    "    return prev"
   ]
  },
  {
   "cell_type": "code",
   "execution_count": 137,
   "metadata": {},
   "outputs": [],
   "source": [
    "def write_csv(posts, name):\n",
    "    name = name + \".csv\"\n",
    "    posts.to_csv(name)"
   ]
  },
  {
   "cell_type": "code",
   "execution_count": 20,
   "metadata": {},
   "outputs": [],
   "source": [
    "def read_in_csv(csv_file):\n",
    "    if '.csv' in csv_file:\n",
    "        data = pd.read_csv(csv_file)\n",
    "    elif '.tsv' in csv_file:\n",
    "        data = pd.read_csv(csv_file,sep=\"\\t\")\n",
    "    return data"
   ]
  },
  {
   "cell_type": "code",
   "execution_count": 62,
   "metadata": {},
   "outputs": [],
   "source": [
    "files = os.listdir(\"../raw\")\n",
    "files = [f for f in files if (\".csv\" in f and \"humor_challenge_jokes\" not in f)]"
   ]
  },
  {
   "cell_type": "code",
   "execution_count": 132,
   "metadata": {},
   "outputs": [],
   "source": [
    "pd_list = []\n",
    "#csv_list = ['puns.csv', 'AntiAntiJokes.csv','humor_challenge_jokes.csv','rjokes.csv','qajokes_cleaned.csv']\n",
    "giant_pd = pd.DataFrame(columns = ['score','title','selftext'])\n",
    "for file in files:\n",
    "    fname = \"../raw/\" + file\n",
    "    df = read_in_csv(fname)\n",
    "    if \"Unnamed: 0\" in df.columns:\n",
    "        df = df.drop([\"Unnamed: 0\"], axis = 1)\n",
    "    if \"score\" not in df.columns:\n",
    "        df['score'] = np.zeros(len(df))\n",
    "    if \" selftext\" in df.columns:\n",
    "        df = df.rename(columns={\" selftext\": \"selftext\"})\n",
    "    if \"title\" not in df.columns:\n",
    "        if \"selftext\" in df.columns:\n",
    "            df=df.rename(columns={\"selftext\": \"title\", \"body\": \"selftext\", \"score\":\"score\"})\n",
    "        else:\n",
    "            continue\n",
    "    pd_list.append(df)"
   ]
  },
  {
   "cell_type": "code",
   "execution_count": 134,
   "metadata": {},
   "outputs": [],
   "source": [
    "merged = pd.concat([pd_list[0],pd_list[14]])\n",
    "del pd_list[14]"
   ]
  },
  {
   "cell_type": "code",
   "execution_count": 136,
   "metadata": {},
   "outputs": [],
   "source": [
    "for p in pd_list:\n",
    "    giant = filter_csv2(p,giant)"
   ]
  },
  {
   "cell_type": "code",
   "execution_count": 131,
   "metadata": {},
   "outputs": [
    {
     "data": {
      "text/html": [
       "<div>\n",
       "<style scoped>\n",
       "    .dataframe tbody tr th:only-of-type {\n",
       "        vertical-align: middle;\n",
       "    }\n",
       "\n",
       "    .dataframe tbody tr th {\n",
       "        vertical-align: top;\n",
       "    }\n",
       "\n",
       "    .dataframe thead th {\n",
       "        text-align: right;\n",
       "    }\n",
       "</style>\n",
       "<table border=\"1\" class=\"dataframe\">\n",
       "  <thead>\n",
       "    <tr style=\"text-align: right;\">\n",
       "      <th></th>\n",
       "      <th>title</th>\n",
       "      <th>selftext</th>\n",
       "      <th>score</th>\n",
       "    </tr>\n",
       "  </thead>\n",
       "  <tbody>\n",
       "    <tr>\n",
       "      <th>0</th>\n",
       "      <td>Yett</td>\n",
       "      <td>I don't like 420 memes out of 20 points I give...</td>\n",
       "      <td>0</td>\n",
       "    </tr>\n",
       "    <tr>\n",
       "      <th>1</th>\n",
       "      <td>Titles are weird</td>\n",
       "      <td>If I watch inspector calls, in glasses. could...</td>\n",
       "      <td>0</td>\n",
       "    </tr>\n",
       "    <tr>\n",
       "      <th>2</th>\n",
       "      <td>Savege answer to the officer</td>\n",
       "      <td>Officer: your headlight is broken\\nMe: no your...</td>\n",
       "      <td>0</td>\n",
       "    </tr>\n",
       "    <tr>\n",
       "      <th>3</th>\n",
       "      <td>Quasimodo's home destroyed by fire</td>\n",
       "      <td>We will have to get over this hump somehow.</td>\n",
       "      <td>0</td>\n",
       "    </tr>\n",
       "    <tr>\n",
       "      <th>4</th>\n",
       "      <td>Quasimodo's home destroyed by fire</td>\n",
       "      <td>Global News: Notre Dame at risk of collapse as...</td>\n",
       "      <td>0</td>\n",
       "    </tr>\n",
       "  </tbody>\n",
       "</table>\n",
       "</div>"
      ],
      "text/plain": [
       "                                title  \\\n",
       "0                                Yett   \n",
       "1                    Titles are weird   \n",
       "2        Savege answer to the officer   \n",
       "3  Quasimodo's home destroyed by fire   \n",
       "4  Quasimodo's home destroyed by fire   \n",
       "\n",
       "                                            selftext  score  \n",
       "0  I don't like 420 memes out of 20 points I give...      0  \n",
       "1   If I watch inspector calls, in glasses. could...      0  \n",
       "2  Officer: your headlight is broken\\nMe: no your...      0  \n",
       "3        We will have to get over this hump somehow.      0  \n",
       "4  Global News: Notre Dame at risk of collapse as...      0  "
      ]
     },
     "execution_count": 131,
     "metadata": {},
     "output_type": "execute_result"
    }
   ],
   "source": [
    "pd_list[4].head()"
   ]
  },
  {
   "cell_type": "code",
   "execution_count": 138,
   "metadata": {},
   "outputs": [],
   "source": [
    "write_csv(giant,\"aggregated\")"
   ]
  },
  {
   "cell_type": "code",
   "execution_count": null,
   "metadata": {},
   "outputs": [],
   "source": []
  }
 ],
 "metadata": {
  "kernelspec": {
   "display_name": "Python 3",
   "language": "python",
   "name": "python3"
  },
  "language_info": {
   "codemirror_mode": {
    "name": "ipython",
    "version": 3
   },
   "file_extension": ".py",
   "mimetype": "text/x-python",
   "name": "python",
   "nbconvert_exporter": "python",
   "pygments_lexer": "ipython3",
   "version": "3.8.5"
  }
 },
 "nbformat": 4,
 "nbformat_minor": 4
}
