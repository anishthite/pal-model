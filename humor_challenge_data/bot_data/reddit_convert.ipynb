{
 "cells": [
  {
   "cell_type": "code",
   "execution_count": 128,
   "metadata": {},
   "outputs": [],
   "source": [
    "import csv\n",
    "from sklearn.model_selection import train_test_split\n",
    "import pandas as pd\n",
    "import numpy as np\n",
    "import os\n",
    "qa_pd = pd.DataFrame(columns = ['title','selftext','score','source'])\n",
    "non_qa_pd = pd.DataFrame(columns = ['title','selftext','score','source'])"
   ]
  },
  {
   "cell_type": "code",
   "execution_count": 129,
   "metadata": {},
   "outputs": [],
   "source": [
    "badwords = ['nigger', 'fuck', 'sex', 'negro', 'cunt', 'bitch', 'cum', 'gay', 'dyke', 'fag', 'faggot']\n",
    "redditwords = ['Edit:', 'edit:']\n",
    "\n",
    "\n",
    "def check_bad_word(badwordlist, sentence):\n",
    "    sentencecopy = sentence.split(' ')\n",
    "    for word in badwords:\n",
    "        if word in sentencecopy:\n",
    "            return False\n",
    "    return True\n"
   ]
  },
  {
   "cell_type": "code",
   "execution_count": 131,
   "metadata": {},
   "outputs": [],
   "source": [
    "def filter_csv2(data, source,length_limit=250):\n",
    "    is_good_list = []\n",
    "    global qa_pd\n",
    "    global non_qa_pd\n",
    "    for i in range(len(data)):\n",
    "        if pd.isnull(data.iloc[i]['title']):\n",
    "            title = ''\n",
    "        else:\n",
    "            title = data.iloc[i]['title']\n",
    "\n",
    "        if pd.isnull(data.iloc[i]['selftext']):\n",
    "            body = ''\n",
    "        else :\n",
    "            body = data.iloc[i]['selftext']\n",
    "\n",
    "        data.at[i,'source'] = source\n",
    "        sentence = title + body\n",
    "        if (len(sentence) == 0):\n",
    "            continue\n",
    "        data.at[i,'title'] = title.replace('\\n','')\n",
    "        data.at[i,'selftext'] = body.replace('\\n','')\n",
    "        for word in redditwords:\n",
    "            if word in body:\n",
    "                data.at[i,'selftext'] = body[:body.index(word)]\n",
    "                \n",
    "                \n",
    "        #Good if data does not contain bad words and the length of the sentence is between 2 and 250 and not duplicated\n",
    "        is_good = check_bad_word(badwords, sentence) and (len(sentence) > 2) and (len(sentence) < length_limit) \n",
    "\n",
    "        #check if the data is removed\n",
    "        if type(body) is str and ( body == \"[deleted]\" or not body==\"[removed]\" ):\n",
    "            is_good = !is_good\n",
    "            \n",
    "        #check if it is a question\n",
    "        is_qa = is_good and title.count('?') == 1\n",
    "        \n",
    "        if title in qa_pd[\"title\"] or title in non_qa_pd[\"title\"]:\n",
    "            continue\n",
    "        \n",
    "        if is_good:\n",
    "            if is_qa:\n",
    "                qa_pd = qa_pd.append(data.loc[i,:])\n",
    "            else:\n",
    "                non_qa_pd=non_qa_pd.append(data.loc[i,:])\n"
   ]
  },
  {
   "cell_type": "code",
   "execution_count": 132,
   "metadata": {},
   "outputs": [],
   "source": [
    "def write_csv(posts, name):\n",
    "    name = name + \".csv\"\n",
    "    posts.to_csv(name, index=False)"
   ]
  },
  {
   "cell_type": "code",
   "execution_count": 133,
   "metadata": {},
   "outputs": [],
   "source": [
    "def read_in_csv(csv_file):\n",
    "    if '.csv' in csv_file:\n",
    "        data = pd.read_csv(csv_file)\n",
    "    elif '.tsv' in csv_file:\n",
    "        data = pd.read_csv(csv_file,sep=\"\\t\")\n",
    "    return data"
   ]
  },
  {
   "cell_type": "code",
   "execution_count": 134,
   "metadata": {},
   "outputs": [],
   "source": [
    "files = [\"puns.csv\", \"AntiAntiJokes.csv\", \"rjokes.csv\"]"
   ]
  },
  {
   "cell_type": "code",
   "execution_count": 135,
   "metadata": {},
   "outputs": [],
   "source": [
    "pd_list = []\n",
    "\n",
    "#Read in csv files\n",
    "\n",
    "for file in files:\n",
    "    fname = \"../raw/\" + file\n",
    "    df = read_in_csv(fname)\n",
    "    if (df.columns[0] != 'title'):\n",
    "        col_data = df['score']\n",
    "        df = df.drop([\"score\"], axis=1)\n",
    "        df[\"score\"] = col_data\n",
    "        df[\"source\"] = None\n",
    "    pd_list.append(df)"
   ]
  },
  {
   "cell_type": "code",
   "execution_count": 136,
   "metadata": {},
   "outputs": [],
   "source": [
    "for i in range(len(pd_list)):\n",
    "    filter_csv2(pd_list[i], files[i])"
   ]
  },
  {
   "cell_type": "code",
   "execution_count": 139,
   "metadata": {},
   "outputs": [],
   "source": [
    "write_csv(qa_pd, \"qa_total\")"
   ]
  },
  {
   "cell_type": "code",
   "execution_count": 140,
   "metadata": {},
   "outputs": [],
   "source": [
    "write_csv(non_qa_pd,\"non_qa_total\")"
   ]
  },
  {
   "cell_type": "code",
   "execution_count": null,
   "metadata": {},
   "outputs": [],
   "source": []
  }
 ],
 "metadata": {
  "kernelspec": {
   "display_name": "Python 3",
   "language": "python",
   "name": "python3"
  },
  "language_info": {
   "codemirror_mode": {
    "name": "ipython",
    "version": 3
   },
   "file_extension": ".py",
   "mimetype": "text/x-python",
   "name": "python",
   "nbconvert_exporter": "python",
   "pygments_lexer": "ipython3",
   "version": "3.8.5"
  }
 },
 "nbformat": 4,
 "nbformat_minor": 4
}
