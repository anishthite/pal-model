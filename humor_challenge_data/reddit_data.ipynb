{
 "cells": [
  {
   "cell_type": "code",
   "execution_count": 1,
   "metadata": {},
   "outputs": [],
   "source": [
    "import praw\n",
    "import pandas as pd"
   ]
  },
  {
   "cell_type": "code",
   "execution_count": 2,
   "metadata": {},
   "outputs": [],
   "source": [
    "##setup reddit\n",
    "reddit = praw.Reddit(client_id='tHcGayqKTYkFaA',\n",
    "                     client_secret= 'qxJ39-FkwE8hKz1SpZba5JF0gCg',\n",
    "                    user_agent=\"scrap\")"
   ]
  },
  {
   "cell_type": "code",
   "execution_count": 30,
   "metadata": {},
   "outputs": [],
   "source": [
    "def get_posts(subreddit_name, limit=500):\n",
    "    posts=[]\n",
    "    sub_posts = reddit.subreddit(subreddit_name).hot(limit=500)\n",
    "    \n",
    "    for post in sub_posts:\n",
    "        sample = [post.title, post.selftext, post.over_18]\n",
    "        if not sample[2] :\n",
    "            posts.append(sample)\n",
    "    posts = pd.DataFrame(posts, columns=['title',' body', 'over_18'])\n",
    "    return posts"
   ]
  },
  {
   "cell_type": "code",
   "execution_count": 31,
   "metadata": {},
   "outputs": [],
   "source": [
    "def write_csv(posts, name):\n",
    "    name = name + \".csv\"\n",
    "    posts.to_csv(name)"
   ]
  },
  {
   "cell_type": "code",
   "execution_count": 38,
   "metadata": {},
   "outputs": [],
   "source": [
    "posts = get_posts(\"AntiAntiJokes\", 3000)"
   ]
  },
  {
   "cell_type": "code",
   "execution_count": 39,
   "metadata": {},
   "outputs": [],
   "source": [
    "write_csv(posts, \"AntiAntiJokes\")"
   ]
  },
  {
   "cell_type": "code",
   "execution_count": 40,
   "metadata": {},
   "outputs": [
    {
     "data": {
      "text/html": [
       "<div>\n",
       "<style scoped>\n",
       "    .dataframe tbody tr th:only-of-type {\n",
       "        vertical-align: middle;\n",
       "    }\n",
       "\n",
       "    .dataframe tbody tr th {\n",
       "        vertical-align: top;\n",
       "    }\n",
       "\n",
       "    .dataframe thead th {\n",
       "        text-align: right;\n",
       "    }\n",
       "</style>\n",
       "<table border=\"1\" class=\"dataframe\">\n",
       "  <thead>\n",
       "    <tr style=\"text-align: right;\">\n",
       "      <th></th>\n",
       "      <th>title</th>\n",
       "      <th>body</th>\n",
       "      <th>over_18</th>\n",
       "    </tr>\n",
       "  </thead>\n",
       "  <tbody>\n",
       "    <tr>\n",
       "      <th>0</th>\n",
       "      <td>You read that wrong.</td>\n",
       "      <td>It was meant to be read from right to left, be...</td>\n",
       "      <td>False</td>\n",
       "    </tr>\n",
       "    <tr>\n",
       "      <th>1</th>\n",
       "      <td>BLUE JELLYFISH</td>\n",
       "      <td>BL UE\\n\\njelllyfish\\n\\nswish swish swiish\\n\\ns...</td>\n",
       "      <td>False</td>\n",
       "    </tr>\n",
       "    <tr>\n",
       "      <th>2</th>\n",
       "      <td>What do you call a doctor?</td>\n",
       "      <td>(EDIT: Forgot to put a comma after \"What\". I t...</td>\n",
       "      <td>False</td>\n",
       "    </tr>\n",
       "    <tr>\n",
       "      <th>3</th>\n",
       "      <td>Their real mother and father have been replace...</td>\n",
       "      <td>This stark revelation has prompted a plan for ...</td>\n",
       "      <td>False</td>\n",
       "    </tr>\n",
       "    <tr>\n",
       "      <th>4</th>\n",
       "      <td>There was a protest in my town against protests.</td>\n",
       "      <td>Everyone was just standing around doing nothing.</td>\n",
       "      <td>False</td>\n",
       "    </tr>\n",
       "  </tbody>\n",
       "</table>\n",
       "</div>"
      ],
      "text/plain": [
       "                                               title  \\\n",
       "0                               You read that wrong.   \n",
       "1                                     BLUE JELLYFISH   \n",
       "2                         What do you call a doctor?   \n",
       "3  Their real mother and father have been replace...   \n",
       "4   There was a protest in my town against protests.   \n",
       "\n",
       "                                                body  over_18  \n",
       "0  It was meant to be read from right to left, be...    False  \n",
       "1  BL UE\\n\\njelllyfish\\n\\nswish swish swiish\\n\\ns...    False  \n",
       "2  (EDIT: Forgot to put a comma after \"What\". I t...    False  \n",
       "3  This stark revelation has prompted a plan for ...    False  \n",
       "4   Everyone was just standing around doing nothing.    False  "
      ]
     },
     "execution_count": 40,
     "metadata": {},
     "output_type": "execute_result"
    }
   ],
   "source": [
    "posts.head()"
   ]
  },
  {
   "cell_type": "code",
   "execution_count": 29,
   "metadata": {},
   "outputs": [
    {
     "data": {
      "text/plain": [
       "'I wonder how Bill Gates gets Windows. Does he get it free? Or does Microsoft Bill Gates?'"
      ]
     },
     "execution_count": 29,
     "metadata": {},
     "output_type": "execute_result"
    }
   ],
   "source": []
  },
  {
   "cell_type": "code",
   "execution_count": null,
   "metadata": {},
   "outputs": [],
   "source": []
  }
 ],
 "metadata": {
  "kernelspec": {
   "display_name": "Python 3",
   "language": "python",
   "name": "python3"
  },
  "language_info": {
   "codemirror_mode": {
    "name": "ipython",
    "version": 3
   },
   "file_extension": ".py",
   "mimetype": "text/x-python",
   "name": "python",
   "nbconvert_exporter": "python",
   "pygments_lexer": "ipython3",
   "version": "3.8.5"
  }
 },
 "nbformat": 4,
 "nbformat_minor": 4
}
