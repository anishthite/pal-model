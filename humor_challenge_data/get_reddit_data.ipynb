{
 "cells": [
  {
   "cell_type": "code",
   "execution_count": 1,
   "metadata": {},
   "outputs": [],
   "source": [
    "import praw\n",
    "import pandas as pd"
   ]
  },
  {
   "cell_type": "code",
   "execution_count": 2,
   "metadata": {},
   "outputs": [],
   "source": [
    "##setup reddit\n",
    "reddit = praw.Reddit(client_id='tHcGayqKTYkFaA',\n",
    "                     client_secret= 'qxJ39-FkwE8hKz1SpZba5JF0gCg',\n",
    "                    user_agent=\"scrap\")"
   ]
  },
  {
   "cell_type": "code",
   "execution_count": 42,
   "metadata": {},
   "outputs": [],
   "source": [
    "def get_posts(subreddit_name, limit=500):\n",
    "    posts=[]\n",
    "    sub_posts = reddit.subreddit(subreddit_name).hot(limit=limit)\n",
    "    \n",
    "    for post in sub_posts:\n",
    "        sample = [ post.title, post.selftext, post.score ]\n",
    "        if not post.over_18 :\n",
    "            posts.append(sample)\n",
    "    posts = pd.DataFrame(posts, columns=['title','selftext', 'score'])\n",
    "    return posts"
   ]
  },
  {
   "cell_type": "code",
   "execution_count": 43,
   "metadata": {},
   "outputs": [],
   "source": [
    "def write_csv(posts, name):\n",
    "    name = name + \".csv\"\n",
    "    posts.to_csv(name, index = False)"
   ]
  },
  {
   "cell_type": "code",
   "execution_count": 44,
   "metadata": {},
   "outputs": [],
   "source": [
    "posts = get_posts(\"AntiAntiJokes\", 3000)"
   ]
  },
  {
   "cell_type": "code",
   "execution_count": 45,
   "metadata": {
    "scrolled": true
   },
   "outputs": [],
   "source": [
    "write_csv(posts, \"raw/AntiAntiJokes\")"
   ]
  },
  {
   "cell_type": "code",
   "execution_count": 46,
   "metadata": {},
   "outputs": [],
   "source": [
    "posts = get_posts(\"pun\", 3000)\n"
   ]
  },
  {
   "cell_type": "code",
   "execution_count": 47,
   "metadata": {},
   "outputs": [],
   "source": [
    "write_csv(posts, \"raw/puns\")"
   ]
  },
  {
   "cell_type": "code",
   "execution_count": 48,
   "metadata": {},
   "outputs": [
    {
     "data": {
      "text/html": [
       "<div>\n",
       "<style scoped>\n",
       "    .dataframe tbody tr th:only-of-type {\n",
       "        vertical-align: middle;\n",
       "    }\n",
       "\n",
       "    .dataframe tbody tr th {\n",
       "        vertical-align: top;\n",
       "    }\n",
       "\n",
       "    .dataframe thead th {\n",
       "        text-align: right;\n",
       "    }\n",
       "</style>\n",
       "<table border=\"1\" class=\"dataframe\">\n",
       "  <thead>\n",
       "    <tr style=\"text-align: right;\">\n",
       "      <th></th>\n",
       "      <th>title</th>\n",
       "      <th>selftext</th>\n",
       "      <th>score</th>\n",
       "    </tr>\n",
       "  </thead>\n",
       "  <tbody>\n",
       "    <tr>\n",
       "      <th>0</th>\n",
       "      <td>Glue is a good friend, it always sticks around</td>\n",
       "      <td></td>\n",
       "      <td>8</td>\n",
       "    </tr>\n",
       "    <tr>\n",
       "      <th>1</th>\n",
       "      <td>get it d m&amp;m me admittedly😂😂😂😂😂😂😁😁😁😁</td>\n",
       "      <td></td>\n",
       "      <td>35</td>\n",
       "    </tr>\n",
       "    <tr>\n",
       "      <th>2</th>\n",
       "      <td>I love Cigarette Shops</td>\n",
       "      <td>They're my favorite Gas stations</td>\n",
       "      <td>12</td>\n",
       "    </tr>\n",
       "    <tr>\n",
       "      <th>3</th>\n",
       "      <td>Suicide?</td>\n",
       "      <td>Why would I, I'm not a lawyer?</td>\n",
       "      <td>5</td>\n",
       "    </tr>\n",
       "    <tr>\n",
       "      <th>4</th>\n",
       "      <td>What do you call a prince that does drugs?</td>\n",
       "      <td>His royal highness.</td>\n",
       "      <td>35</td>\n",
       "    </tr>\n",
       "  </tbody>\n",
       "</table>\n",
       "</div>"
      ],
      "text/plain": [
       "                                            title  \\\n",
       "0  Glue is a good friend, it always sticks around   \n",
       "1            get it d m&m me admittedly😂😂😂😂😂😂😁😁😁😁   \n",
       "2                          I love Cigarette Shops   \n",
       "3                                        Suicide?   \n",
       "4      What do you call a prince that does drugs?   \n",
       "\n",
       "                           selftext  score  \n",
       "0                                        8  \n",
       "1                                       35  \n",
       "2  They're my favorite Gas stations     12  \n",
       "3    Why would I, I'm not a lawyer?      5  \n",
       "4               His royal highness.     35  "
      ]
     },
     "execution_count": 48,
     "metadata": {},
     "output_type": "execute_result"
    }
   ],
   "source": [
    "posts.head()"
   ]
  },
  {
   "cell_type": "code",
   "execution_count": null,
   "metadata": {},
   "outputs": [],
   "source": []
  }
 ],
 "metadata": {
  "kernelspec": {
   "display_name": "Python 3",
   "language": "python",
   "name": "python3"
  },
  "language_info": {
   "codemirror_mode": {
    "name": "ipython",
    "version": 3
   },
   "file_extension": ".py",
   "mimetype": "text/x-python",
   "name": "python",
   "nbconvert_exporter": "python",
   "pygments_lexer": "ipython3",
   "version": "3.8.5"
  }
 },
 "nbformat": 4,
 "nbformat_minor": 4
}
