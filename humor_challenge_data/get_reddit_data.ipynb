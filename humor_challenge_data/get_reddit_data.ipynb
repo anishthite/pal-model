{
 "cells": [
  {
   "cell_type": "code",
   "execution_count": 4,
   "metadata": {},
   "outputs": [],
   "source": [
    "import praw\n",
    "import pandas as pd"
   ]
  },
  {
   "cell_type": "code",
   "execution_count": 5,
   "metadata": {},
   "outputs": [],
   "source": [
    "##setup reddit\n",
    "reddit = praw.Reddit(client_id='tHcGayqKTYkFaA',\n",
    "                     client_secret= 'qxJ39-FkwE8hKz1SpZba5JF0gCg',\n",
    "                    user_agent=\"scrap\")"
   ]
  },
  {
   "cell_type": "code",
   "execution_count": 18,
   "metadata": {},
   "outputs": [],
   "source": [
    "def get_posts(subreddit_name, limit=500):\n",
    "    posts=[]\n",
    "    sub_posts = reddit.subreddit(subreddit_name).hot(limit=limit)\n",
    "    \n",
    "    for post in sub_posts:\n",
    "        sample = [ post.title, post.selftext, post.score ]\n",
    "        if not sample[2] :\n",
    "            posts.append(sample)\n",
    "    posts = pd.DataFrame(posts, columns=['title',' selftext', 'score'])\n",
    "    return posts"
   ]
  },
  {
   "cell_type": "code",
   "execution_count": 19,
   "metadata": {},
   "outputs": [],
   "source": [
    "def write_csv(posts, name):\n",
    "    name = name + \".csv\"\n",
    "    posts.to_csv(name)"
   ]
  },
  {
   "cell_type": "code",
   "execution_count": 20,
   "metadata": {},
   "outputs": [],
   "source": [
    "posts = get_posts(\"AntiAntiJokes\", 3000)"
   ]
  },
  {
   "cell_type": "code",
   "execution_count": 21,
   "metadata": {
    "scrolled": true
   },
   "outputs": [],
   "source": [
    "write_csv(posts, \"raw/AntiAntiJokes\")"
   ]
  },
  {
   "cell_type": "code",
   "execution_count": 22,
   "metadata": {},
   "outputs": [],
   "source": [
    "posts = posts = get_posts(\"pun\", 3000)\n",
    "write_csv(posts, \"raw/puns\")"
   ]
  },
  {
   "cell_type": "code",
   "execution_count": null,
   "metadata": {},
   "outputs": [],
   "source": []
  }
 ],
 "metadata": {
  "kernelspec": {
   "display_name": "Python 3",
   "language": "python",
   "name": "python3"
  },
  "language_info": {
   "codemirror_mode": {
    "name": "ipython",
    "version": 3
   },
   "file_extension": ".py",
   "mimetype": "text/x-python",
   "name": "python",
   "nbconvert_exporter": "python",
   "pygments_lexer": "ipython3",
   "version": "3.8.5"
  }
 },
 "nbformat": 4,
 "nbformat_minor": 4
}
