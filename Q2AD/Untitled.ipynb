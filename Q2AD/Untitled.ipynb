{
 "cells": [
  {
   "cell_type": "code",
   "execution_count": 8,
   "metadata": {},
   "outputs": [],
   "source": [
    "import json\n",
    "jsonq_file = open('Q2AD_v1_QuestionsID.json')\n",
    "jsonq_str = jsonq_file.read()\n",
    "jsonq_data = json.loads(jsonq_str)\n",
    "\n",
    "\n",
    "jsonte_file = open('Q2AD_v1_test.json')\n",
    "jsonte_str = jsonte_file.read()\n",
    "jsonte_data = json.loads(jsonte_str)\n",
    "\n",
    "jsontr_file = open('Q2AD_v1_train.json')\n",
    "jsontr_str = jsontr_file.read()\n",
    "jsontr_data = json.loads(jsontr_str)\n"
   ]
  },
  {
   "cell_type": "code",
   "execution_count": 17,
   "metadata": {},
   "outputs": [],
   "source": [
    "test_dataset = []\n",
    "\n",
    "for key in jsonte_data.keys():\n",
    "    test_dataset.append([jsonq_data[key], jsonte_data[key]['sentences'][0]])"
   ]
  },
  {
   "cell_type": "code",
   "execution_count": 20,
   "metadata": {},
   "outputs": [],
   "source": [
    "import csv\n",
    "with open('quoratest.csv', 'w') as writefile:\n",
    "    mywriter = csv.writer(writefile)\n",
    "    for line in test_dataset:\n",
    "        mywriter.writerow(line)"
   ]
  },
  {
   "cell_type": "code",
   "execution_count": 21,
   "metadata": {},
   "outputs": [],
   "source": [
    "train_dataset = []\n",
    "\n",
    "for key in jsontr_data.keys():\n",
    "    train_dataset.append([jsonq_data[key], jsontr_data[key]['sentences'][0]])"
   ]
  },
  {
   "cell_type": "code",
   "execution_count": 22,
   "metadata": {},
   "outputs": [],
   "source": [
    "import csv\n",
    "with open('quoratrain.csv', 'w') as writefile:\n",
    "    mywriter = csv.writer(writefile)\n",
    "    for line in train_dataset:\n",
    "        mywriter.writerow(line)"
   ]
  }
 ],
 "metadata": {
  "kernelspec": {
   "display_name": "Python 3",
   "language": "python",
   "name": "python3"
  },
  "language_info": {
   "codemirror_mode": {
    "name": "ipython",
    "version": 3
   },
   "file_extension": ".py",
   "mimetype": "text/x-python",
   "name": "python",
   "nbconvert_exporter": "python",
   "pygments_lexer": "ipython3",
   "version": "3.7.4"
  }
 },
 "nbformat": 4,
 "nbformat_minor": 2
}
